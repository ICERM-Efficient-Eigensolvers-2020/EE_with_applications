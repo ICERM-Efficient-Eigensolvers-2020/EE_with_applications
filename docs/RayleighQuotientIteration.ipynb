{
 "cells": [
  {
   "cell_type": "code",
   "execution_count": null,
   "metadata": {
    "collapsed": true
   },
   "outputs": [],
   "source": [
    "import numpy as np"
   ]
  },
  {
   "cell_type": "markdown",
   "source": [
    "# Rayleigh Quotient Iteration Method\n",
    "Rayleight Quotient Iteration is a variant of Shifted Inverse Iteration Method. \n",
    "Instead of choosing $\\mu$ according to Girkinson theorem, it take the "
   ],
   "metadata": {
    "collapsed": false,
    "pycharm": {
     "name": "#%% md\n"
    }
   }
  },
  {
   "cell_type": "code",
   "execution_count": null,
   "outputs": [],
   "source": [
    "def RayleighQuotientIteration(A, convergence_condition=0.00001):\n",
    "    idx = 0\n",
    "    r, c = A.shape\n",
    "   # initialize eigenvectors\n",
    "    v = np.zeros(r)\n",
    "    v[0] = 1\n",
    "    # initialize eigenvalues\n",
    "    lam = 1\n",
    "    while True:\n",
    "        idx = idx + 1\n",
    "        IA = A - lam * np.identity(r)\n",
    "        v_new = np.linalg.solve(IA, v)\n",
    "        v_new = v_new / np.linalg.norm(v_new)\n",
    "        lam_new = v_new.dot(A.dot(v_new))\n",
    "        if np.abs(lam_new - lam) < convergence_condition:\n",
    "            break\n",
    "        lam = lam_new\n",
    "        v = v_new\n",
    "    return v_new, lam_new, idx\n",
    "\n"
   ],
   "metadata": {
    "collapsed": false,
    "pycharm": {
     "name": "#%%\n"
    }
   }
  }
 ],
 "metadata": {
  "kernelspec": {
   "display_name": "Python 3",
   "language": "python",
   "name": "python3"
  },
  "language_info": {
   "codemirror_mode": {
    "name": "ipython",
    "version": 2
   },
   "file_extension": ".py",
   "mimetype": "text/x-python",
   "name": "python",
   "nbconvert_exporter": "python",
   "pygments_lexer": "ipython2",
   "version": "2.7.6"
  }
 },
 "nbformat": 4,
 "nbformat_minor": 0
}