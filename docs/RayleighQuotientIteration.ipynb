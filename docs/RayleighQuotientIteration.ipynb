{
 "cells": [
  {
   "cell_type": "code",
   "execution_count": 51,
   "metadata": {
    "collapsed": true
   },
   "outputs": [],
   "source": [
    "import numpy as np\n",
    "import matplotlib.pyplot as plt\n",
    "from tabulate import tabulate\n",
    "import math\n",
    "\n",
    "def residue(A, v, lam):\n",
    "    return np.linalg.norm(A.dot(v) - lam * v)\n",
    "\n",
    "def info_store(lam, vec, A):\n",
    "    global info_dict\n",
    "    info_dict['lam'].append(lam)\n",
    "    info_dict['vec'].append(vec)\n",
    "    info_dict['residue'].append(residue(A, vec, lam))\n",
    "\n",
    "def visualize(info_dict):\n",
    "    N = len(info_dict['lam'])\n",
    "    x = [i for i in range(N)]\n",
    "    plt.plot(x, info_dict['residue'])\n",
    "    plt.xlabel('iteration')\n",
    "    plt.ylabel('residue')\n",
    "    plt.title('Convergence rate')\n",
    "    plt.show()\n",
    "\n",
    "def print_log(idx, info_dict):\n",
    "    info_list = [[i, info_dict['vec'][i], info_dict['lam'][i], info_dict['residue'][i]] for i in range(idx)]\n",
    "    print(tabulate(info_list, headers=[\"iteration\",\"eigenvector\", \"eigenvalue\",\"residue\"]))\n"
   ]
  },
  {
   "cell_type": "markdown",
   "source": [
    "# Rayleigh Quotient Iteration Method\n",
    "Rayleight Quotient Iteration is a variant of Shifted Inverse Iteration Method.\n",
    "Instead of choosing a specific $\\mu$ close to a known eigenvalue, it calculates\n",
    "the Rayleigh Quotient for the vector we are processing. In another word, RQ Iteration\n",
    "uses dynamic $\\mu$ following Rayleigh Quotient."
   ],
   "metadata": {
    "collapsed": false,
    "pycharm": {
     "name": "#%% md\n"
    }
   }
  },
  {
   "cell_type": "code",
   "execution_count": 52,
   "outputs": [
    {
     "name": "stdout",
     "output_type": "stream",
     "text": [
      "  iteration  eigenvector                eigenvalue      residue\n",
      "-----------  -----------------------  ------------  -----------\n",
      "          0  [0.8 0.6]                     2.26     0.18\n",
      "          1  [0.76288455 0.64653474]       2.27069  0.000637182\n",
      "          2  [0.76301998 0.6463749 ]       2.27069  2.79675e-11\n"
     ]
    },
    {
     "data": {
      "text/plain": "<Figure size 432x288 with 1 Axes>",
      "image/png": "[encoded data removed]"
     },
     "metadata": {
      "needs_background": "light"
     },
     "output_type": "display_data"
    }
   ],
   "source": [
    "def RayleighQuotientIteration(A, convergence_condition=0.00001):\n",
    "    idx = 0\n",
    "    r, c = A.shape\n",
    "   # initialize eigenvectors\n",
    "    v = np.zeros(r)\n",
    "    v.fill(1/math.sqrt(r))\n",
    "    # initialize eigenvalues\n",
    "    lam = 1\n",
    "    while True:\n",
    "        idx = idx + 1\n",
    "        IA = A - lam * np.identity(r)\n",
    "        v_new = np.linalg.solve(IA, v)\n",
    "        v_new = v_new / np.linalg.norm(v_new)\n",
    "        lam_new = v_new.dot(A.dot(v_new))\n",
    "        info_store(lam_new, v_new, A)\n",
    "        if np.abs(lam_new - lam) < convergence_condition:\n",
    "            break\n",
    "        lam = lam_new\n",
    "        v = v_new\n",
    "    return v_new, lam_new, idx\n",
    "\n",
    "if __name__ == '__main__':\n",
    "\n",
    "    info_dict = {}\n",
    "    info_dict['lam'] = []\n",
    "    info_dict['vec'] = []\n",
    "    info_dict['residue'] = []\n",
    "    A = np.array([[1, 1.5],[1.5, 0.5]])\n",
    "    _, _, idx = RayleighQuotientIteration(A)\n",
    "    print_log(idx,info_dict)\n",
    "    visualize(info_dict)"
   ],
   "metadata": {
    "collapsed": false,
    "pycharm": {
     "name": "#%%\n"
    }
   }
  }
 ],
 "metadata": {
  "kernelspec": {
   "display_name": "Python 3",
   "language": "python",
   "name": "python3"
  },
  "language_info": {
   "codemirror_mode": {
    "name": "ipython",
    "version": 2
   },
   "file_extension": ".py",
   "mimetype": "text/x-python",
   "name": "python",
   "nbconvert_exporter": "python",
   "pygments_lexer": "ipython2",
   "version": "2.7.6"
  }
 },
 "nbformat": 4,
 "nbformat_minor": 0
}