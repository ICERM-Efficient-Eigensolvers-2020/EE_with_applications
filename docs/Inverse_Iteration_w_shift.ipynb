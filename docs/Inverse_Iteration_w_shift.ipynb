{
 "cells": [
  {
   "cell_type": "markdown",
   "metadata": {},
   "source": [
    "# Shifted Inverse Iteration"
   ]
  },
  {
   "cell_type": "markdown",
   "metadata": {},
   "source": [
    "### Imported Python Libraries and Path direction "
   ]
  },
  {
   "cell_type": "code",
   "execution_count": null,
   "metadata": {},
   "outputs": [],
   "source": [
    "import numpy as np\n",
    "from tabulate import tabulate\n",
    "import matplotlib.pyplot as plt\n",
    "import os\n",
    "THIS_FOLDER = os.path.dirname(os.path.abspath(__file__))\n",
    "\n",
    "info_list = []"
   ]
  },
  {
   "cell_type": "markdown",
   "metadata": {},
   "source": [
    "## Shifted Inverse Method"
   ]
  },
  {
   "cell_type": "code",
   "execution_count": null,
   "metadata": {},
   "outputs": [],
   "source": [
    "def InverseShift(A, mu=1.1, converge_range=0.0001, file_path=\".\"):\n",
    "    \n",
    "    r, c = A.shape\n",
    "\n",
    "    if r != c:\n",
    "        raise Exception(\"not a square matrix\")\n",
    "\n",
    "    #initialize eigenvectors\n",
    "    vec_list = []\n",
    "    lambda_list = []\n",
    "    diff_list = []\n",
    "\n",
    "    idx = 0\n",
    "    vec_init = np.zeros(r)\n",
    "    vec_init[-1] = 1\n",
    "    vec_list.append(vec_init)\n",
    "\n",
    "    #initialize eigenvalues\n",
    "    lambda_init = vec_init.dot(A.dot(vec_init))\n",
    "    lambda_list.append(lambda_init)\n",
    "    \n",
    "    diff_init = float(\"inf\")\n",
    "    diff_list.append(diff_init)\n",
    "\n",
    "    I = np.identity(r)\n",
    "\n",
    "    while diff_list[idx] > converge_range:\n",
    "        mat = A - (mu*I)\n",
    "        #solve the (A-(mu)I)w = v^(k-1) for w=vec_new\n",
    "        vec_new = np.linalg.solve(mat, vec_list[idx]) \n",
    "        #normalize the newly found vec_new=w\n",
    "        vec_new = vec_new / np.linalg.norm(vec_new)\n",
    "        #add this to the vector list\n",
    "        vec_list.append(vec_new)\n",
    "        lambda_new = vec_new.dot(A.dot(vec_new))\n",
    "        lambda_list.append(lambda_new)\n",
    "        diff = np.abs(lambda_new - lambda_list[idx])\n",
    "        diff_list.append(diff)\n",
    "        idx = idx + 1\n",
    "        \n",
    "    print_log(idx, vec_list, lambda_list, diff_list, file_path)\n",
    "\n",
    "    #plot lambda_list\n",
    "    x = [i for i in range(idx+1)]\n",
    "    if len(x) > 20:\n",
    "        x = x[:21]\n",
    "        diff_list = diff_list[:21]\n",
    "\n",
    "\n",
    "    plt.plot(x, diff_list)\n",
    "    plt.title(\"Inverse Iteration with Shift Lambda Difference\")\n",
    "    plt.xlabel('iterations')\n",
    "    plt.ylabel('lambda difference')\n",
    "    plt.savefig(file_path+ \"/IwS_difference_list_plot\")\n",
    "    plt.show()\n",
    "\n",
    "    return vec_list[-1], lambda_list[-1]"
   ]
  },
  {
   "cell_type": "markdown",
   "metadata": {},
   "source": [
    "## Outputting Dominant Eigenvalue and Eigenvector"
   ]
  },
  {
   "cell_type": "code",
   "execution_count": null,
   "metadata": {},
   "outputs": [],
   "source": [
    "def print_log(idx, vec_list, lambda_list, diff_list, file_path):\n",
    "    info_list = [[i, vec_list[i], lambda_list[i], diff_list[i]] for i in range(idx)]\n",
    "    print(file_path)\n",
    "    with open(file_path+'/Inverse_Shift_performance.txt', 'w') as outputfile:\n",
    "        outputfile.write(tabulate(info_list, headers=[\"iteration\",\"eigenvector\", \"eigenvalue\",\"lambda_diff\"]))"
   ]
  }
 ],
 "metadata": {
  "kernelspec": {
   "display_name": "Python 3",
   "language": "python",
   "name": "python3"
  },
  "language_info": {
   "codemirror_mode": {
    "name": "ipython",
    "version": 3
   },
   "file_extension": ".py",
   "mimetype": "text/x-python",
   "name": "python",
   "nbconvert_exporter": "python",
   "pygments_lexer": "ipython3",
   "version": "3.7.6"
  }
 },
 "nbformat": 4,
 "nbformat_minor": 4
}
