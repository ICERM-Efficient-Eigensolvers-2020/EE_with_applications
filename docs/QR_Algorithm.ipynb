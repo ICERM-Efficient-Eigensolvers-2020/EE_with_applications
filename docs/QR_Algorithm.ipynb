{
 "cells": [
  {
   "cell_type": "markdown",
   "metadata": {},
   "source": [
    "# QR Algorithm "
   ]
  },
  {
   "cell_type": "markdown",
   "metadata": {},
   "source": [
    "The QR algorithm is employed when computing eigenvalues and eigenvectors. "
   ]
  },
  {
   "cell_type": "markdown",
   "metadata": {},
   "source": [
    "### Imported Python Libraries"
   ]
  },
  {
   "cell_type": "code",
   "execution_count": null,
   "metadata": {},
   "outputs": [],
   "source": [
    "import numpy as npy\n",
    "import scipy.linalg as spl  # SciPy Linear Algebra Library"
   ]
  },
  {
   "cell_type": "markdown",
   "metadata": {},
   "source": [
    "## Householder transformation method"
   ]
  },
  {
   "cell_type": "code",
   "execution_count": null,
   "metadata": {},
   "outputs": [],
   "source": [
    "def qr_Algorithm_HH(x, converge_range):\n",
    "    m, n = x.shape\n",
    "    Q_last = npy.identity(n)\n",
    "    diff = 1\n",
    "    \n",
    "    lamb, u = spl.eig(x)\n",
    "    lamb = min(npy.abs(lamb))\n",
    "    \n",
    "    # QR Algo using \n",
    "    while diff > converge_range:\n",
    "        Q, R = npy.linalg.qr(x)\n",
    "        # This update matrix A, by dot product of reverse QR \n",
    "        x = npy.dot(R, Q) \n",
    "        \n",
    "        eigenvalue = npy.diag(x)  #outputs only the values on the main diaginal\n",
    "        eigenvalue = min(npy.abs(eigenvalue))\n",
    "        \n",
    "        diff = npy.abs(lamb - eigenvalue)\n",
    "        \n",
    "        eigenvectors = npy.dot(Q_last, Q)\n",
    "        Q_last = eigenvectors\n",
    "        \n",
    "    eigenvalues = npy.diag(x)  #outputs only the values on the main diaginal  \n",
    "    return eigenvectors, eigenvalues\n"
   ]
  },
  {
   "cell_type": "markdown",
   "metadata": {},
   "source": [
    "## Gram-Schmidt Process"
   ]
  },
  {
   "cell_type": "markdown",
   "metadata": {},
   "source": [
    "### Below is the method for GS"
   ]
  },
  {
   "cell_type": "code",
   "execution_count": null,
   "metadata": {},
   "outputs": [],
   "source": [
    "def qr_GS(x):\n",
    "    m, n = x.shape\n",
    "    Q = npy.zeros((m, n)) # Q is all zero\n",
    "    R = npy.zeros((n, n))\n",
    "\n",
    "    for j in range(n): #range (3) = {0,1,2}\n",
    "        v = x[:, j] # x[:,0] returns the first* column* of x, x[:,1] reutrns the second column etc\n",
    "\n",
    "        for i in range(j):\n",
    "            \n",
    "            Q1 = Q[:, i] #when we are here for the the first time, q = \n",
    "            R[i, j] = npy.dot(Q1, v)\n",
    "            v = v - R[i, j] * Q1\n",
    "\n",
    "        vNorm = npy.linalg.norm(v)\n",
    "        R[j, j] = vNorm\n",
    "        Q[:, j] = v / vNorm\n",
    "    \n",
    "    return Q, R"
   ]
  },
  {
   "cell_type": "markdown",
   "metadata": {},
   "source": [
    "### Below is the application of GS in the QR Algorithm"
   ]
  },
  {
   "cell_type": "code",
   "execution_count": null,
   "metadata": {},
   "outputs": [],
   "source": [
    "def qr_Algorithm_GS(x, converge_range):\n",
    "    m, n = x.shape\n",
    "    Q_last = npy.identity(n)\n",
    "    diff = 1\n",
    "    \n",
    "    lamb, u = spl.eig(x)\n",
    "    lamb = min(npy.abs(lamb))\n",
    "        \n",
    "    while diff > converge_range:\n",
    "        Q, R = qr_GS(x)\n",
    "        # This update matrix A, by dot product of reverse QR \n",
    "        x = npy.dot(R, Q) \n",
    "        \n",
    "        eigenvalue = npy.diag(x)  #outputs only the values on the main diaginal\n",
    "        eigenvalue = min(npy.abs(eigenvalue))\n",
    "        \n",
    "        diff = npy.abs(lamb - eigenvalue)\n",
    "        \n",
    "        eigenvectors = npy.dot(Q_last, Q)\n",
    "        Q_last = eigenvectors\n",
    "        \n",
    "    eigenvalues = npy.diag(x)  #outputs only the values on the main diaginal    \n",
    "    \n",
    "    return eigenvectors, eigenvalues"
   ]
  },
  {
   "cell_type": "markdown",
   "metadata": {},
   "source": [
    "## Shifted QR Algorithm: implementing Gram-Schmidt process "
   ]
  },
  {
   "cell_type": "code",
   "execution_count": null,
   "metadata": {},
   "outputs": [],
   "source": [
    "def shiftedQR_Algorithm(x, converge_range):\n",
    "    m, n = x.shape\n",
    "    I = npy.identity(n)\n",
    "    Q_last = npy.identity(n)\n",
    "    diff = 1\n",
    "    \n",
    "    lamb, u = spl.eig(x)\n",
    "    lamb = min(npy.abs(lamb))\n",
    "    \n",
    "    while diff > converge_range:\n",
    "        μ = x[[n-1],[n-1]]         # shift: μ = a_nn\n",
    "        Q, R = qr_GS((x - (μ*I)))\n",
    "        # This update matrix A, by dot product of reverse QR \n",
    "        x = npy.dot(R, Q) + (μ*I)   # Updates matrix, by dot product of reverse QR and adding back the shift\n",
    "        \n",
    "        eigenvalue = npy.diag(x)  #outputs only the values on the main diaginal\n",
    "        eigenvalue = min(npy.abs(eigenvalue))\n",
    "        \n",
    "        diff = npy.abs(lamb - eigenvalue)\n",
    "        \n",
    "        eigenvectors = npy.dot(Q_last, Q)\n",
    "        Q_last = eigenvectors\n",
    "        \n",
    "    eigenvalues = npy.diag(x)  #outputs only the values on the main diaginal    \n",
    "    \n",
    "    return eigenvectors, eigenvalues   "
   ]
  }
 ],
 "metadata": {
  "kernelspec": {
   "display_name": "Python 3",
   "language": "python",
   "name": "python3"
  },
  "language_info": {
   "codemirror_mode": {
    "name": "ipython",
    "version": 3
   },
   "file_extension": ".py",
   "mimetype": "text/x-python",
   "name": "python",
   "nbconvert_exporter": "python",
   "pygments_lexer": "ipython3",
   "version": "3.7.6"
  }
 },
 "nbformat": 4,
 "nbformat_minor": 4
}
