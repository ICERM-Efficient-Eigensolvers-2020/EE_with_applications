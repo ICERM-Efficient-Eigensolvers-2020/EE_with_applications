{
 "cells": [
  {
   "cell_type": "code",
   "execution_count": 3,
   "outputs": [],
   "source": [
    "import numpy as np\n",
    "from tabulate import tabulate\n",
    "import matplotlib.pyplot as plt\n",
    "import os\n",
    "info_list = []\n",
    "def print_log(idx, v_list, lambda_list, diff_list, file_path):\n",
    "    info_list = [[i, v_list[i], lambda_list[i], diff_list[i]] for i in range(idx)]\n",
    "    print(info_list)"
   ],
   "metadata": {
    "collapsed": false,
    "pycharm": {
     "name": "#%%\n"
    }
   }
  },
  {
   "cell_type": "markdown",
   "source": [
    "# Power Iteration Method\n",
    "\n",
    "Power Iteration is utilizing the convergence of the sequence\n",
    "##### $$ \\frac{x}{||x||}, \\frac{Ax}{||Ax||}, \\frac{A^2x}{||A^2x|}, \\frac{A^3x}{||A^3x||}, \\cdots$$\n",
    "For any matrix $$A$$ with a unique dominant eigenvalue, the sequence would converge to $$A$$'s eigenvector corresponding to its dominant eigenvalue.\n",
    "\n",
    "To calculate an estimated natural eigenvalue for a give vector, we use Rayleigh Quotient to measure the value making this vector like an eigenvector the most.\n",
    "\n",
    "$$ r(x) = \\frac{x^T A x}{x^T x} $$"
   ],
   "metadata": {
    "collapsed": false,
    "pycharm": {
     "name": "#%% md\n"
    }
   }
  },
  {
   "cell_type": "code",
   "execution_count": 4,
   "outputs": [
    {
     "name": "stdout",
     "output_type": "stream",
     "text": [
      "[[0, array([0., 1.]), 1.5, inf], [1, array([0.31622777, 0.9486833 ]), 1.7999999999999998, 0.2999999999999998], [2, array([0.51449576, 0.85749293]), 1.9411764705882355, 0.14117647058823568], [3, array([0.61394061, 0.78935222]), 1.9846153846153847, 0.04343891402714917], [4, array([0.66162164, 0.74983786]), 1.9961089494163422, 0.011493564800957534], [5, array([0.68467546, 0.72884807]), 1.9990243902439024, 0.002915440827560234], [6, array([0.69597329, 0.71806768]), 1.9997559189650964, 0.0007315287211939747], [7, array([0.7015611 , 0.71260931]), 1.999938968568813, 0.0001830496037165119]]\n"
     ]
    },
    {
     "data": {
      "text/plain": "<Figure size 432x288 with 1 Axes>",
      "image/png": "[encoded data removed]"
     },
     "metadata": {
      "needs_background": "light"
     },
     "output_type": "display_data"
    }
   ],
   "source": [
    "def PowerMethod(A,norm_indicator=True, converge_range=0.0001, file_path=\"\"):\n",
    "\n",
    "    r, c = A.shape\n",
    "\n",
    "    if r != c:\n",
    "        raise Exception(\"not a square matrix\")\n",
    "\n",
    "    #initialize eigenvectors\n",
    "    v_list = []\n",
    "    lambda_list = []\n",
    "    diff_list = []\n",
    "\n",
    "    idx = 0\n",
    "    v_init = np.zeros(r)\n",
    "    v_init[-1] = 1\n",
    "    v_list.append(v_init)\n",
    "\n",
    "    #initialize eigenvalues\n",
    "    lambda_init = v_init.dot(A.dot(v_init))\n",
    "    lambda_list.append(lambda_init)\n",
    "\n",
    "    diff_init = float(\"inf\")\n",
    "    diff_list.append(diff_init)\n",
    "\n",
    "    while diff_list[idx] > converge_range:\n",
    "        #new vector\n",
    "        v_new = A.dot(v_list[idx])\n",
    "\n",
    "        if norm_indicator:\n",
    "            v_new = v_new / np.linalg.norm(v_new)\n",
    "\n",
    "        v_list.append(v_new)\n",
    "        lambda_new = v_new.dot(A.dot(v_new))\n",
    "        lambda_list.append(lambda_new)\n",
    "        diff = np.abs(lambda_new - lambda_list[idx])\n",
    "        diff_list.append(diff)\n",
    "        idx = idx + 1\n",
    "\n",
    "    print_log(idx, v_list, lambda_list, diff_list, file_path)\n",
    "\n",
    "    #plot lambda_list\n",
    "    x = [i for i in range(idx+1)]\n",
    "    if len(x) > 20:\n",
    "        x = x[:21]\n",
    "        diff_list = diff_list[:21]\n",
    "\n",
    "    plt.plot(x, diff_list)\n",
    "    plt.title(\"Power Iteration Lambda Difference\")\n",
    "    plt.xlabel('iterations')\n",
    "    plt.ylabel('lambda difference')\n",
    "    plt.show()\n",
    "    plt.close()\n",
    "    eigenvec = v_list[-1]\n",
    "    eigenvec = eigenvec / np.linalg.norm(eigenvec)\n",
    "    return eigenvec, lambda_list[-1]\n",
    "\n",
    "if __name__ == '__main__':\n",
    "    A = np.array([[1.5,.5],[.5,1.5]])\n",
    "    PowerMethod(A)"
   ],
   "metadata": {
    "collapsed": false,
    "pycharm": {
     "name": "#%%\n"
    }
   }
  },
  {
   "cell_type": "code",
   "source": [],
   "metadata": {
    "collapsed": false,
    "pycharm": {
     "name": "#%%\n"
    }
   },
   "execution_count": 4,
   "outputs": []
  }
 ],
 "metadata": {
  "kernelspec": {
   "display_name": "Python 3",
   "language": "python",
   "name": "python3"
  },
  "language_info": {
   "codemirror_mode": {
    "name": "ipython",
    "version": 2
   },
   "file_extension": ".py",
   "mimetype": "text/x-python",
   "name": "python",
   "nbconvert_exporter": "python",
   "pygments_lexer": "ipython2",
   "version": "2.7.6"
  }
 },
 "nbformat": 4,
 "nbformat_minor": 0
}