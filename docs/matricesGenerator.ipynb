{
 "cells": [
  {
   "cell_type": "markdown",
   "source": [
    "# Matrices Generator"
   ],
   "metadata": {
    "collapsed": false,
    "pycharm": {
     "name": "#%% md\n"
    }
   }
  },
  {
   "cell_type": "code",
   "execution_count": 11,
   "metadata": {
    "collapsed": true
   },
   "outputs": [],
   "source": [
    "from scipy.stats import ortho_group\n",
    "import random\n",
    "import numpy as np\n",
    "\n",
    "def lambda_generator(dim):\n",
    "    randomlist = [random.random() for i in range(0, dim)]\n",
    "    return randomlist"
   ]
  },
  {
   "cell_type": "markdown",
   "source": [
    "If we want to control the eigenvalues for the\n",
    "matrix, changing this random list is a good approach to\n",
    "get things done."
   ],
   "metadata": {
    "collapsed": false,
    "pycharm": {
     "name": "#%% md\n"
    }
   }
  },
  {
   "cell_type": "code",
   "execution_count": 12,
   "outputs": [
    {
     "name": "stdout",
     "output_type": "stream",
     "text": [
      "\n",
      "-------------- matrix A ---------------\n",
      "[[ 0.7653706  -0.08487877 -0.0055044  -0.1156457   0.05058963]\n",
      " [-0.08487877  0.69646098  0.01552041  0.01123542  0.0570537 ]\n",
      " [-0.0055044   0.01552041  0.30736143 -0.14460661  0.01842245]\n",
      " [-0.1156457   0.01123542 -0.14460661  0.51509752 -0.05649798]\n",
      " [ 0.05058963  0.0570537   0.01842245 -0.05649798  0.61728912]]\n",
      "\n",
      "-------------- random eigenvalues ---------------\n",
      "[0.5537280353372933, 0.8626945769098665, 0.728834650628058, 0.5299659043411096, 0.22635647355184096]\n"
     ]
    }
   ],
   "source": [
    "def matrix_generator(dim):\n",
    "    M = ortho_group.rvs(dim=dim)\n",
    "    lambdas = lambda_generator(dim)\n",
    "    D = np.zeros((dim, dim), float)\n",
    "    np.fill_diagonal(D, lambdas)\n",
    "    A = np.matmul(M, D)\n",
    "    A = np.matmul(A, np.linalg.inv(M))\n",
    "    return A, lambdas\n",
    "\n",
    "if __name__ == '__main__':\n",
    "    dim = 5\n",
    "    A, eigenvals = matrix_generator(dim)\n",
    "    print('\\n-------------- matrix A ---------------')\n",
    "    print(A)\n",
    "    print('\\n-------------- random eigenvalues ---------------')\n",
    "    print(eigenvals)"
   ],
   "metadata": {
    "collapsed": false,
    "pycharm": {
     "name": "#%%\n"
    }
   }
  }
 ],
 "metadata": {
  "kernelspec": {
   "display_name": "Python 3",
   "language": "python",
   "name": "python3"
  },
  "language_info": {
   "codemirror_mode": {
    "name": "ipython",
    "version": 2
   },
   "file_extension": ".py",
   "mimetype": "text/x-python",
   "name": "python",
   "nbconvert_exporter": "python",
   "pygments_lexer": "ipython2",
   "version": "2.7.6"
  }
 },
 "nbformat": 4,
 "nbformat_minor": 0
}